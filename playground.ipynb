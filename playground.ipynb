{
 "cells": [
  {
   "cell_type": "code",
   "execution_count": 4,
   "metadata": {},
   "outputs": [
    {
     "name": "stdout",
     "output_type": "stream",
     "text": [
      "12953300248: 12944936960\n",
      "12953300256: 12953300432\n",
      "12953300264: 4294996137\n",
      "12953300272: 12953300688\n",
      "12953300280: 0\n"
     ]
    }
   ],
   "source": [
    "input_string = \"0x30413ad18: 12944936960\\n0x30413ad20: 12953300432\\n0x30413ad28: 4294996137\\n0x30413ad30: 12953300688\\n0x30413ad38: 0\"\n",
    "def convert(input_string):\n",
    "    lines = input_string.split('\\n')\n",
    "    converted_lines = []\n",
    "\n",
    "    for line in lines:\n",
    "        parts = line.split(': ')\n",
    "        if len(parts) == 2:\n",
    "            hex_value = parts[0].strip()\n",
    "            decimal_value = int(hex_value, 16)\n",
    "            converted_lines.append(f\"{decimal_value}: {parts[1]}\")\n",
    "\n",
    "    converted_output = '\\n'.join(converted_lines)\n",
    "    return converted_output\n",
    "\n",
    "print(convert(\"\"\"\n",
    "0x30413ad18: 12944936960\n",
    "0x30413ad20: 12953300432\n",
    "0x30413ad28: 4294996137\n",
    "0x30413ad30: 12953300688\n",
    "0x30413ad38: 0\n",
    "\"\"\"))"
   ]
  },
  {
   "cell_type": "code",
   "execution_count": null,
   "metadata": {},
   "outputs": [],
   "source": []
  }
 ],
 "metadata": {
  "kernelspec": {
   "display_name": "256",
   "language": "python",
   "name": "python3"
  },
  "language_info": {
   "codemirror_mode": {
    "name": "ipython",
    "version": 3
   },
   "file_extension": ".py",
   "mimetype": "text/x-python",
   "name": "python",
   "nbconvert_exporter": "python",
   "pygments_lexer": "ipython3",
   "version": "3.11.3"
  },
  "orig_nbformat": 4
 },
 "nbformat": 4,
 "nbformat_minor": 2
}
